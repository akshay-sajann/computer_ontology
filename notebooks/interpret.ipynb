{
 "cells": [
  {
   "cell_type": "code",
   "execution_count": 2,
   "id": "601260bd",
   "metadata": {},
   "outputs": [],
   "source": [
    "from rdkit import Chem\n",
    "\n",
    "from mordred import Chi, ABCIndex, RingCount, Calculator, is_missing, descriptors, BCUT, WalkCount, MoeType"
   ]
  },
  {
   "cell_type": "markdown",
   "id": "322e1777",
   "metadata": {},
   "source": [
    "Looking into Mordred descriptors for interpretability"
   ]
  },
  {
   "cell_type": "code",
   "execution_count": 4,
   "id": "14a92b4d",
   "metadata": {},
   "outputs": [
    {
     "name": "stdout",
     "output_type": "stream",
     "text": [
      "Result({'BCUTv-1h': 20.778951143625783})\n"
     ]
    }
   ],
   "source": [
    "mol = Chem.MolFromSmiles(\"CCCCCCCCCC\")\n",
    "\n",
    "# Create empty Calculator instance\n",
    "calc1 = Calculator()\n",
    "\n",
    "# Register descriptor instance\n",
    "#calc1.register(Chi.Chi(type=\"path_cluster\", order=4, prop='dv', averaged=False))\n",
    "#calc1.register(Chi.Chi(type=\"path\", order=1, prop='dv', averaged=False))\n",
    "#calc1.register(BCUT.BCUT(prop='c', nth=-1))\n",
    "calc1.register(BCUT.BCUT(prop='v', nth=0))\n",
    "#calc1.register(WalkCount.WalkCount(order=4, total=False, self_returning=True))\n",
    "#calc1.register(WalkCount.WalkCount(order=10, total=False, self_returning=True))\n",
    "#calc1.register(MoeType.VSA_EState(k=6))\n",
    "# Calculate descriptors\n",
    "result = calc1(mol)\n",
    "\n",
    "print(result)"
   ]
  },
  {
   "cell_type": "code",
   "execution_count": 88,
   "id": "41e0addd",
   "metadata": {},
   "outputs": [
    {
     "data": {
      "text/plain": [
       "array([ 1.9138606 ,  1.88321476,  1.84476568,  0.72942697,  1.84476568,\n",
       "        1.88321476,  0.07069728, 12.28998441,  0.73601852,  1.94907407,\n",
       "        1.09655659,  2.02490741,  1.98522487,  2.00101568,  2.04772487,\n",
       "        1.15473304,  1.99157407,  1.88657407])"
      ]
     },
     "execution_count": 88,
     "metadata": {},
     "output_type": "execute_result"
    }
   ],
   "source": [
    "from rdkit.Chem import EState\n",
    "from rdkit.Chem.EState import EState_VSA\n",
    "\n",
    "m = Chem.MolFromSmiles('C1=CC=C(C=C1)C(=O)C2=CC3=CC=CC=C3C=C2')\n",
    "contribs = EState.EStateIndices(m)\n",
    "contribs"
   ]
  },
  {
   "cell_type": "code",
   "execution_count": 12,
   "id": "107f6489",
   "metadata": {},
   "outputs": [
    {
     "ename": "TypeError",
     "evalue": "'float' object is not iterable",
     "output_type": "error",
     "traceback": [
      "\u001b[0;31m---------------------------------------------------------------------------\u001b[0m",
      "\u001b[0;31mTypeError\u001b[0m                                 Traceback (most recent call last)",
      "Cell \u001b[0;32mIn[12], line 12\u001b[0m\n\u001b[1;32m      9\u001b[0m asa_total, asa_contribs \u001b[38;5;241m=\u001b[39m rdMolDescriptors\u001b[38;5;241m.\u001b[39m_CalcLabuteASAContribs(mol)\n\u001b[1;32m     11\u001b[0m \u001b[38;5;66;03m# Convert to list if needed\u001b[39;00m\n\u001b[0;32m---> 12\u001b[0m asa_contrib_list \u001b[38;5;241m=\u001b[39m \u001b[38;5;28;43mlist\u001b[39;49m\u001b[43m(\u001b[49m\u001b[43masa_contribs\u001b[49m\u001b[43m)\u001b[49m\n\u001b[1;32m     13\u001b[0m \u001b[38;5;28mprint\u001b[39m(asa_contrib_list)\n",
      "\u001b[0;31mTypeError\u001b[0m: 'float' object is not iterable"
     ]
    }
   ],
   "source": [
    "from rdkit import Chem\n",
    "from rdkit.Chem import rdMolDescriptors\n",
    "\n",
    "# Example molecule\n",
    "smiles = \"CCO\"  # ethanol\n",
    "mol = Chem.MolFromSmiles(smiles)\n",
    "\n",
    "# Calculate Labute ASA atomic contributions\n",
    "asa_total, asa_contribs = rdMolDescriptors._CalcLabuteASAContribs(mol)\n",
    "\n",
    "# Convert to list if needed\n",
    "asa_contrib_list = list(asa_contribs)\n",
    "print(asa_contrib_list)\n"
   ]
  },
  {
   "cell_type": "code",
   "execution_count": 98,
   "id": "a71e4b0f",
   "metadata": {},
   "outputs": [],
   "source": [
    "# Example molecule\n",
    "smiles = \"C=C=C=C=C=C=C=C\"  # ethanol\n",
    "m = Chem.MolFromSmiles(smiles)\n",
    "\n",
    "#Chem.rdMolDescriptors.CalcLabuteASA(m)\n",
    "#Chem.rdMolDescriptors._CalcLabuteASAContribs(m)\n",
    "\n",
    "tpl = Chem.rdMolDescriptors._CalcLabuteASAContribs(mol)\n",
    "ats, hs = tpl"
   ]
  },
  {
   "cell_type": "code",
   "execution_count": 30,
   "id": "31247907",
   "metadata": {},
   "outputs": [
    {
     "data": {
      "text/plain": [
       "(<rdkit.rdBase._vectd at 0x767eb74f39c0>, 1.2612803353779227)"
      ]
     },
     "execution_count": 30,
     "metadata": {},
     "output_type": "execute_result"
    }
   ],
   "source": [
    "tpl"
   ]
  },
  {
   "cell_type": "code",
   "execution_count": 99,
   "id": "1c4f0646",
   "metadata": {},
   "outputs": [
    {
     "data": {
      "text/plain": [
       "[6.578935683598497,\n",
       " 5.731218590741754,\n",
       " 5.731218590741754,\n",
       " 5.731218590741754,\n",
       " 5.731218590741754,\n",
       " 5.731218590741754,\n",
       " 5.731218590741754,\n",
       " 6.578935683598497]"
      ]
     },
     "execution_count": 99,
     "metadata": {},
     "output_type": "execute_result"
    }
   ],
   "source": [
    "#Chem.rdMolDescriptors._CalcLabuteASAContribs(m)\n",
    "\n",
    "list(Chem.rdMolDescriptors._CalcLabuteASAContribs(m)[0])"
   ]
  },
  {
   "cell_type": "code",
   "execution_count": 96,
   "id": "d4f4738e",
   "metadata": {},
   "outputs": [
    {
     "data": {
      "text/plain": [
       "[6.923737199690624, 6.4208216229260096, 6.923737199690624]"
      ]
     },
     "execution_count": 96,
     "metadata": {},
     "output_type": "execute_result"
    }
   ],
   "source": [
    "smiles = \"CCC\"  # ethanol\n",
    "m = Chem.MolFromSmiles(smiles)\n",
    "\n",
    "list(Chem.rdMolDescriptors._CalcLabuteASAContribs(m)[0])"
   ]
  },
  {
   "cell_type": "code",
   "execution_count": 52,
   "id": "59709d2d",
   "metadata": {},
   "outputs": [
    {
     "data": {
      "text/plain": [
       "5.316788604006331"
      ]
     },
     "execution_count": 52,
     "metadata": {},
     "output_type": "execute_result"
    }
   ],
   "source": [
    "EState_VSA.EState_VSA8(m)"
   ]
  },
  {
   "cell_type": "code",
   "execution_count": 48,
   "id": "3830871f",
   "metadata": {},
   "outputs": [
    {
     "data": {
      "text/plain": [
       "array([1.875, 2.75 , 1.875])"
      ]
     },
     "execution_count": 48,
     "metadata": {},
     "output_type": "execute_result"
    }
   ],
   "source": [
    "contribs = EState.EStateIndices(m)\n",
    "contribs"
   ]
  },
  {
   "cell_type": "code",
   "execution_count": 68,
   "id": "f2060a9f",
   "metadata": {},
   "outputs": [
    {
     "data": {
      "text/plain": [
       "[4.78, 5.0, 5.41, 5.74, 6.0, 6.07, 6.45, 7.0, 11.0]"
      ]
     },
     "execution_count": 68,
     "metadata": {},
     "output_type": "execute_result"
    }
   ],
   "source": [
    "EState_VSA.vsaBins"
   ]
  }
 ],
 "metadata": {
  "kernelspec": {
   "display_name": "ontology",
   "language": "python",
   "name": "python3"
  },
  "language_info": {
   "codemirror_mode": {
    "name": "ipython",
    "version": 3
   },
   "file_extension": ".py",
   "mimetype": "text/x-python",
   "name": "python",
   "nbconvert_exporter": "python",
   "pygments_lexer": "ipython3",
   "version": "3.10.9"
  }
 },
 "nbformat": 4,
 "nbformat_minor": 5
}
