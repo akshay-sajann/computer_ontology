{
 "cells": [
  {
   "cell_type": "code",
   "execution_count": 14,
   "id": "601260bd",
   "metadata": {},
   "outputs": [],
   "source": [
    "from rdkit import Chem\n",
    "\n",
    "from mordred import Chi, ABCIndex, RingCount, Calculator, is_missing, descriptors, BCUT, WalkCount"
   ]
  },
  {
   "cell_type": "code",
   "execution_count": 26,
   "id": "14a92b4d",
   "metadata": {},
   "outputs": [
    {
     "name": "stdout",
     "output_type": "stream",
     "text": [
      "Result({'SRW04': 3.295836866004329, 'SRW10': 6.608000625296087})\n"
     ]
    }
   ],
   "source": [
    "mol = Chem.MolFromSmiles(\"CCCCCC\")\n",
    "\n",
    "# Create empty Calculator instance\n",
    "calc1 = Calculator()\n",
    "\n",
    "# Register descriptor instance\n",
    "#calc1.register(Chi.Chi(type=\"path_cluster\", order=4, prop='dv', averaged=False))\n",
    "#calc1.register(Chi.Chi(type=\"path\", order=1, prop='dv', averaged=False))\n",
    "#calc1.register(BCUT.BCUT(prop='c', nth=-1))\n",
    "#calc1.register(BCUT.BCUT(prop='c', nth=0))\n",
    "calc1.register(WalkCount.WalkCount(order=4, total=False, self_returning=True))\n",
    "calc1.register(WalkCount.WalkCount(order=10, total=False, self_returning=True))\n",
    "# Calculate descriptors\n",
    "result = calc1(mol)\n",
    "\n",
    "print(result)"
   ]
  }
 ],
 "metadata": {
  "kernelspec": {
   "display_name": "ontology",
   "language": "python",
   "name": "python3"
  },
  "language_info": {
   "codemirror_mode": {
    "name": "ipython",
    "version": 3
   },
   "file_extension": ".py",
   "mimetype": "text/x-python",
   "name": "python",
   "nbconvert_exporter": "python",
   "pygments_lexer": "ipython3",
   "version": "3.10.9"
  }
 },
 "nbformat": 4,
 "nbformat_minor": 5
}
