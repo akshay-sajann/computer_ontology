{
 "cells": [
  {
   "cell_type": "code",
   "execution_count": 46,
   "id": "7352ec01",
   "metadata": {},
   "outputs": [],
   "source": [
    "import re\n",
    "import pyrfume\n",
    "import numpy as np\n",
    "import pandas as pd\n",
    "import seaborn as sns\n",
    "import rdkit.Chem as Chem\n",
    "import matplotlib.pyplot as plt\n",
    "from rdkit.Chem import rdMolDescriptors\n",
    "from sklearn.preprocessing import MultiLabelBinarizer\n",
    "from computer_ontology.custom_funcs import *\n",
    "from computer_ontology.config import *"
   ]
  },
  {
   "cell_type": "code",
   "execution_count": 47,
   "id": "79f0e0ef",
   "metadata": {},
   "outputs": [],
   "source": [
    "dataset = pd.read_csv(alldesc_dataset_path)\n",
    "expert = pd.read_csv(expert_dataset_path)"
   ]
  },
  {
   "cell_type": "code",
   "execution_count": 48,
   "id": "37d3f3f7",
   "metadata": {},
   "outputs": [
    {
     "name": "stdout",
     "output_type": "stream",
     "text": [
      "(6711, 149)\n"
     ]
    }
   ],
   "source": [
    "dataset['Descriptors'] = dataset['Descriptors'].apply(format_list)\n",
    "print(dataset.shape)"
   ]
  },
  {
   "cell_type": "code",
   "execution_count": 49,
   "id": "4623f178",
   "metadata": {},
   "outputs": [],
   "source": [
    "X, y = x_y_split(dataset)"
   ]
  },
  {
   "cell_type": "code",
   "execution_count": 50,
   "id": "0f9b59c7",
   "metadata": {},
   "outputs": [],
   "source": [
    "test_size = 0.2\n",
    "stratifier = IterativeStratification(n_splits=2, order=2, sample_distribution_per_fold=[test_size, 1.0-test_size])\n",
    "train_indexes, test_indexes = next(stratifier.split(X, y))"
   ]
  },
  {
   "cell_type": "code",
   "execution_count": 56,
   "id": "6dd8121e",
   "metadata": {},
   "outputs": [
    {
     "name": "stdout",
     "output_type": "stream",
     "text": [
      "(5331, 149)\n",
      "(1380, 149)\n"
     ]
    }
   ],
   "source": [
    "train = dataset.iloc[train_indexes]\n",
    "test = dataset.iloc[test_indexes]\n",
    "print(train.shape)\n",
    "print(test.shape)"
   ]
  },
  {
   "cell_type": "code",
   "execution_count": 57,
   "id": "cad926d3",
   "metadata": {},
   "outputs": [
    {
     "name": "stdout",
     "output_type": "stream",
     "text": [
      "(5331, 19)\n",
      "(1380, 19)\n"
     ]
    }
   ],
   "source": [
    "expert_train = expert.iloc[train_indexes]\n",
    "expert_test = expert.iloc[test_indexes]\n",
    "print(expert_train.shape)\n",
    "print(expert_test.shape)"
   ]
  },
  {
   "cell_type": "code",
   "execution_count": null,
   "id": "f32b034d",
   "metadata": {},
   "outputs": [],
   "source": [
    "train.to_csv(alldesc_train_path_2025, index=False)\n",
    "test.to_csv(alldesc_test_path_2025, index=False)\n",
    "\n",
    "expert_train.to_csv(expert_train_path_2025, index=False)\n",
    "expert_test.to_csv(expert_test_path_2025, index=False)"
   ]
  }
 ],
 "metadata": {
  "kernelspec": {
   "display_name": "ontology",
   "language": "python",
   "name": "python3"
  },
  "language_info": {
   "codemirror_mode": {
    "name": "ipython",
    "version": 3
   },
   "file_extension": ".py",
   "mimetype": "text/x-python",
   "name": "python",
   "nbconvert_exporter": "python",
   "pygments_lexer": "ipython3",
   "version": "3.10.9"
  }
 },
 "nbformat": 4,
 "nbformat_minor": 5
}
