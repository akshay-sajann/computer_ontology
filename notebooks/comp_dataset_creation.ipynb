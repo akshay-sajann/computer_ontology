{
 "cells": [
  {
   "cell_type": "code",
   "execution_count": 16,
   "id": "da3e7712",
   "metadata": {},
   "outputs": [],
   "source": [
    "import re\n",
    "import pyrfume\n",
    "import numpy as np\n",
    "import pandas as pd\n",
    "import seaborn as sns\n",
    "import rdkit.Chem as Chem\n",
    "import matplotlib.pyplot as plt\n",
    "from rdkit.Chem import rdMolDescriptors\n",
    "from sklearn.preprocessing import MultiLabelBinarizer\n",
    "from computer_ontology.custom_funcs import *\n",
    "from computer_ontology.config import *"
   ]
  },
  {
   "cell_type": "code",
   "execution_count": 17,
   "id": "dfa15cd8",
   "metadata": {},
   "outputs": [],
   "source": [
    "def computer_taxonomy_imposer(replace, dataset):\n",
    "  umbrella_dataset = dataset[['CID', 'IsomericSMILES', 'Descriptors']].copy()\n",
    "  umbrella_dataset['Descriptors'] = dataset['Descriptors'].apply(lambda x: ';'.join([item for item in x.split(';') if item not in labels_to_remove.index]))\n",
    "  umbrella_dataset = umbrella_dataset[umbrella_dataset['Descriptors'] != '']\n",
    "  # Replacing the odor descriptors with the umbrella terms\n",
    "  umbrella_dataset['Descriptors'] = umbrella_dataset['Descriptors'].apply(check_and_replace, replace = replace)\n",
    "  umbrella_dataset['Descriptors'] = umbrella_dataset['Descriptors'].apply(make_unique)\n",
    "  umbrella_dataset['Descriptors'] = umbrella_dataset['Descriptors'].dropna()\n",
    "  umbrella_dataset = umbrella_dataset[umbrella_dataset['Descriptors'] != '']\n",
    "  #Turn descriptors column into lists\n",
    "  umbrella_dataset['Descriptors'] = umbrella_dataset['Descriptors'].apply(lambda x: x.split(';'))\n",
    "\n",
    "  mlb = MultiLabelBinarizer(sparse_output=True)\n",
    "  mlb.fit(umbrella_dataset['Descriptors'])\n",
    "\n",
    "  data_bin = umbrella_dataset.join(pd.DataFrame.sparse.from_spmatrix(mlb.transform(umbrella_dataset['Descriptors']), index=umbrella_dataset.index, columns=mlb.classes_))\n",
    "  return data_bin"
   ]
  },
  {
   "cell_type": "code",
   "execution_count": 18,
   "id": "d01424f1",
   "metadata": {},
   "outputs": [],
   "source": [
    "train = pd.read_csv(alldesc_train_path_2025)\n",
    "test = pd.read_csv(alldesc_test_path_2025)"
   ]
  },
  {
   "cell_type": "code",
   "execution_count": 19,
   "id": "457e2125",
   "metadata": {},
   "outputs": [],
   "source": [
    "labels_df = pd.read_excel(computer_tax_path, index_col=0)\n",
    "\n",
    "# Labels that did not cluster with any other labels were labelled as 'NaN'\n",
    "labels_to_remove = labels_df[labels_df['Umbrella Terms'].isna()]['Original Descriptors']\n",
    "labels_df = labels_df.dropna()\n",
    "replace = labels_df.values.tolist()"
   ]
  },
  {
   "cell_type": "code",
   "execution_count": 21,
   "id": "62d2ff14",
   "metadata": {},
   "outputs": [],
   "source": [
    "train = computer_taxonomy_imposer(replace, train)\n",
    "test = computer_taxonomy_imposer(replace, test)"
   ]
  },
  {
   "cell_type": "code",
   "execution_count": null,
   "id": "635f58a6",
   "metadata": {},
   "outputs": [],
   "source": [
    "train.to_csv(computer_train_path_2025, index=False)\n",
    "test.to_csv(computer_test_path_2025, index=False)"
   ]
  }
 ],
 "metadata": {
  "kernelspec": {
   "display_name": "ontology",
   "language": "python",
   "name": "python3"
  },
  "language_info": {
   "codemirror_mode": {
    "name": "ipython",
    "version": 3
   },
   "file_extension": ".py",
   "mimetype": "text/x-python",
   "name": "python",
   "nbconvert_exporter": "python",
   "pygments_lexer": "ipython3",
   "version": "3.10.9"
  }
 },
 "nbformat": 4,
 "nbformat_minor": 5
}
